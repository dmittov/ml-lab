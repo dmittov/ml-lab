{
 "cells": [
  {
   "cell_type": "code",
   "execution_count": 1,
   "metadata": {},
   "outputs": [],
   "source": [
    "import pandas as pd\n",
    "from generated import (\n",
    "    house_area_pb2,\n",
    "    house_prices_pb2,\n",
    ")\n",
    "from google.cloud import pubsub_v1\n",
    "from google.cloud.pubsub_v1.subscriber.message import Message\n",
    "import google.auth\n",
    "import google.auth.transport.requests\n",
    "import httpx\n",
    "import functools\n",
    "import time\n",
    "import datetime\n",
    "from google.cloud import bigquery\n",
    "from threading import Thread\n",
    "# from google.cloud import aiplatform_v1 as aiplatform\n",
    "from google.cloud import aiplatform\n",
    "from google.api_core.exceptions import ResourceExhausted\n",
    "from tenacity import retry, wait_fixed\n"
   ]
  },
  {
   "cell_type": "code",
   "execution_count": 2,
   "metadata": {},
   "outputs": [],
   "source": [
    "feature_topic = \"projects/ml-lab-324709/topics/house_area\"\n",
    "price_topic = \"projects/ml-lab-324709/topics/house_prices\""
   ]
  },
  {
   "cell_type": "markdown",
   "metadata": {},
   "source": [
    "## Start Feature Ingestion Thread"
   ]
  },
  {
   "cell_type": "code",
   "execution_count": 3,
   "metadata": {},
   "outputs": [],
   "source": [
    "# fs = aiplatform.Featurestore(\n",
    "#         \"projects/ml-lab-324709\"\n",
    "#         \"/locations/europe-west1\"\n",
    "#         \"/featurestores/realestate\"\n",
    "#     )\n",
    "# entity = fs.get_entity_type(entity_type_id=\"house\")\n"
   ]
  },
  {
   "cell_type": "code",
   "execution_count": 4,
   "metadata": {},
   "outputs": [],
   "source": [
    "# df = pd.read_csv(\"home-data-for-ml-course/train.csv\")\n",
    "# df[\"ts\"] = datetime.datetime.now()\n",
    "# # entity id must be a string\n",
    "# df[\"house_id\"] = df.Id.astype(str)\n",
    "\n",
    "# df = df[0:100].copy()\n",
    "\n",
    "# entity.ingest_from_df(\n",
    "#     feature_ids=[\"flr_one_sq_feet\", \"flr_two_sq_feet\"],\n",
    "#     feature_time=\"ts\",\n",
    "#     feature_source_fields={\n",
    "#         \"flr_one_sq_feet\": \"1stFlrSF\",\n",
    "#         \"flr_two_sq_feet\": \"2ndFlrSF\",\n",
    "#     },\n",
    "#     entity_id_field=\"house_id\",\n",
    "#     df_source=df,\n",
    "# )"
   ]
  },
  {
   "cell_type": "code",
   "execution_count": 3,
   "metadata": {},
   "outputs": [],
   "source": [
    "class StreamHouseFeaturesToFS(Thread):\n",
    "    def __init__(self, subscription_name: str) -> None:\n",
    "        super().__init__()\n",
    "        self.__n_messages_processed = 0\n",
    "        fs = aiplatform.Featurestore(\n",
    "                \"projects/ml-lab-324709\"\n",
    "                \"/locations/europe-west1\"\n",
    "                \"/featurestores/realestate\"\n",
    "            )\n",
    "        self.entity = fs.get_entity_type(entity_type_id=\"house\")\n",
    "        self.subscriber = pubsub_v1.SubscriberClient()\n",
    "        self.subscription_path = self.subscriber.subscription_path(\n",
    "            project=\"ml-lab-324709\",\n",
    "            subscription=subscription_name,\n",
    "        )\n",
    "        self.__should_stop = False\n",
    "        self.timeout = datetime.timedelta(seconds=5).total_seconds()\n",
    "\n",
    "    @property\n",
    "    def n_messages_processed(self) -> int:\n",
    "        return self.__n_messages_processed\n",
    "    \n",
    "    def stop(self) -> None:\n",
    "        self.__should_stop = True\n",
    "\n",
    "    def process_message(self, message: Message) -> None:\n",
    "        house = house_area_pb2.HouseArea()\n",
    "        house.ParseFromString(message.data)\n",
    "        # payload = WriteFeatureValuesPayload(\n",
    "        #     entity_id=house.house_id,\n",
    "        #     feature_values = {\n",
    "        #         \"flr_one_sq_feet\": FeatureValue(\n",
    "        #             int64_value=house.flr_one_sq_feet\n",
    "        #         ),\n",
    "        #         \"flr_two_sq_feet\": FeatureValue(\n",
    "        #             int64_value=house.flr_two_sq_feet\n",
    "        #         ),\n",
    "        #     },\n",
    "        # )\n",
    "        payload = {\n",
    "            house.house_id: {\n",
    "                \"flr_one_sq_feet\": house.flr_one_sq_feet,\n",
    "                \"flr_two_sq_feet\": house.flr_two_sq_feet,\n",
    "            }\n",
    "        }\n",
    "        self.entity.write_feature_values(instances=payload)\n",
    "        \n",
    "        message.ack()\n",
    "        self.__n_messages_processed += 1\n",
    "\n",
    "    def run(self) -> None:\n",
    "        streaming_pull_future = self.subscriber.subscribe(\n",
    "            subscription=self.subscription_path,\n",
    "            callback=self.process_message\n",
    "        )\n",
    "        with self.subscriber:\n",
    "            while True:\n",
    "                try:\n",
    "                    streaming_pull_future.result(timeout=self.timeout)\n",
    "                except TimeoutError:\n",
    "                    if self.__should_stop:\n",
    "                        streaming_pull_future.cancel()\n",
    "                        streaming_pull_future.result()\n",
    "                        break\n"
   ]
  },
  {
   "cell_type": "code",
   "execution_count": 4,
   "metadata": {},
   "outputs": [],
   "source": [
    "stream_threads = [\n",
    "    StreamHouseFeaturesToFS(subscription_name=\"house_area_to_fs\"),\n",
    "]\n",
    "for thread in stream_threads:\n",
    "    thread.start()\n",
    "\n",
    "# streaming = StreamHouseFeaturesToFS(subscription_name=\"house_area_to_fs\")\n",
    "# streaming.run()"
   ]
  },
  {
   "cell_type": "markdown",
   "metadata": {},
   "source": [
    "## Publish data to Pub/Sub"
   ]
  },
  {
   "cell_type": "code",
   "execution_count": null,
   "metadata": {},
   "outputs": [
    {
     "name": "stdout",
     "output_type": "stream",
     "text": [
      "Writing EntityType feature values: projects/670967409083/locations/europe-west1/featurestores/realestate/entityTypes/house\n",
      "Writing EntityType feature values: projects/670967409083/locations/europe-west1/featurestores/realestate/entityTypes/house\n",
      "Writing EntityType feature values: projects/670967409083/locations/europe-west1/featurestores/realestate/entityTypes/house\n",
      "Writing EntityType feature values: projects/670967409083/locations/europe-west1/featurestores/realestate/entityTypes/house\n",
      "Writing EntityType feature values: projects/670967409083/locations/europe-west1/featurestores/realestate/entityTypes/house\n",
      "Writing EntityType feature values: projects/670967409083/locations/europe-west1/featurestores/realestate/entityTypes/house\n",
      "Writing EntityType feature values: projects/670967409083/locations/europe-west1/featurestores/realestate/entityTypes/house\n",
      "Writing EntityType feature values: projects/670967409083/locations/europe-west1/featurestores/realestate/entityTypes/house\n",
      "Writing EntityType feature values: projects/670967409083/locations/europe-west1/featurestores/realestate/entityTypes/house\n",
      "Writing EntityType feature values: projects/670967409083/locations/europe-west1/featurestores/realestate/entityTypes/house\n",
      "EntityType feature values written. Resource name: projects/670967409083/locations/europe-west1/featurestores/realestate/entityTypes/house\n",
      "EntityType feature values written. Resource name: projects/670967409083/locations/europe-west1/featurestores/realestate/entityTypes/house\n",
      "EntityType feature values written. Resource name: projects/670967409083/locations/europe-west1/featurestores/realestate/entityTypes/house\n",
      "Writing EntityType feature values: projects/670967409083/locations/europe-west1/featurestores/realestate/entityTypes/house\n",
      "EntityType feature values written. Resource name: projects/670967409083/locations/europe-west1/featurestores/realestate/entityTypes/house\n",
      "EntityType feature values written. Resource name: projects/670967409083/locations/europe-west1/featurestores/realestate/entityTypes/house\n",
      "EntityType feature values written. Resource name: projects/670967409083/locations/europe-west1/featurestores/realestate/entityTypes/house\n",
      "EntityType feature values written. Resource name: projects/670967409083/locations/europe-west1/featurestores/realestate/entityTypes/house\n",
      "Writing EntityType feature values: projects/670967409083/locations/europe-west1/featurestores/realestate/entityTypes/house\n",
      "Writing EntityType feature values: projects/670967409083/locations/europe-west1/featurestores/realestate/entityTypes/house\n",
      "Writing EntityType feature values: projects/670967409083/locations/europe-west1/featurestores/realestate/entityTypes/house\n",
      "Writing EntityType feature values: projects/670967409083/locations/europe-west1/featurestores/realestate/entityTypes/house\n",
      "Writing EntityType feature values: projects/670967409083/locations/europe-west1/featurestores/realestate/entityTypes/house\n",
      "Writing EntityType feature values: projects/670967409083/locations/europe-west1/featurestores/realestate/entityTypes/house\n",
      "EntityType feature values written. Resource name: projects/670967409083/locations/europe-west1/featurestores/realestate/entityTypes/house\n",
      "EntityType feature values written. Resource name: projects/670967409083/locations/europe-west1/featurestores/realestate/entityTypes/house\n",
      "Writing EntityType feature values: projects/670967409083/locations/europe-west1/featurestores/realestate/entityTypes/house\n",
      "Writing EntityType feature values: projects/670967409083/locations/europe-west1/featurestores/realestate/entityTypes/house\n",
      "EntityType feature values written. Resource name: projects/670967409083/locations/europe-west1/featurestores/realestate/entityTypes/house\n",
      "Writing EntityType feature values: projects/670967409083/locations/europe-west1/featurestores/realestate/entityTypes/house\n",
      "EntityType feature values written. Resource name: projects/670967409083/locations/europe-west1/featurestores/realestate/entityTypes/house\n",
      "EntityType feature values written. Resource name: projects/670967409083/locations/europe-west1/featurestores/realestate/entityTypes/house\n",
      "EntityType feature values written. Resource name: projects/670967409083/locations/europe-west1/featurestores/realestate/entityTypes/house\n",
      "EntityType feature values written. Resource name: projects/670967409083/locations/europe-west1/featurestores/realestate/entityTypes/house\n",
      "EntityType feature values written. Resource name: projects/670967409083/locations/europe-west1/featurestores/realestate/entityTypes/house\n",
      "EntityType feature values written. Resource name: projects/670967409083/locations/europe-west1/featurestores/realestate/entityTypes/house\n",
      "EntityType feature values written. Resource name: projects/670967409083/locations/europe-west1/featurestores/realestate/entityTypes/house\n",
      "EntityType feature values written. Resource name: projects/670967409083/locations/europe-west1/featurestores/realestate/entityTypes/house\n",
      "EntityType feature values written. Resource name: projects/670967409083/locations/europe-west1/featurestores/realestate/entityTypes/house\n",
      "EntityType feature values written. Resource name: projects/670967409083/locations/europe-west1/featurestores/realestate/entityTypes/house\n"
     ]
    }
   ],
   "source": [
    "publisher = pubsub_v1.PublisherClient()\n",
    "df = pd.read_csv(\"home-data-for-ml-course/train.csv\")\n",
    "df = df[0:20].copy()\n",
    "for idx, row in df.iterrows():\n",
    "    utc_ts = int(time.mktime(\n",
    "        datetime.datetime.utcnow().timetuple()\n",
    "    ) * 1e6)  # python returns ts in seconds, bigquery expects micro-sec.\n",
    "    # fill HouseFeatures\n",
    "    feature_row = house_area_pb2.HouseArea()\n",
    "    feature_row.house_id = str(row.Id)\n",
    "    feature_row.house_valuation_timestamp = utc_ts\n",
    "    feature_row.flr_one_sq_feet = row[\"1stFlrSF\"]\n",
    "    feature_row.flr_two_sq_feet = row[\"2ndFlrSF\"]\n",
    "    # fill HousePrice\n",
    "    sales_row = house_prices_pb2.HousePrice()\n",
    "    sales_row.house_id = str(row.Id)\n",
    "    sales_row.sale_timestamp = utc_ts\n",
    "    sales_row.sale_price = row.SalePrice\n",
    "    # Publish messages\n",
    "    _ = publisher.publish(feature_topic, \n",
    "                          feature_row.SerializeToString())\n",
    "    _ = publisher.publish(price_topic, \n",
    "                          sales_row.SerializeToString())\n"
   ]
  },
  {
   "cell_type": "code",
   "execution_count": 6,
   "metadata": {},
   "outputs": [
    {
     "data": {
      "text/plain": [
       "(20, True)"
      ]
     },
     "execution_count": 6,
     "metadata": {},
     "output_type": "execute_result"
    }
   ],
   "source": [
    "(stream_threads[0].n_messages_processed, stream_threads[0].is_alive())"
   ]
  },
  {
   "cell_type": "code",
   "execution_count": 7,
   "metadata": {},
   "outputs": [
    {
     "data": {
      "text/plain": [
       "20"
      ]
     },
     "execution_count": 7,
     "metadata": {},
     "output_type": "execute_result"
    }
   ],
   "source": [
    "stream_threads[0].n_messages_processed"
   ]
  },
  {
   "cell_type": "code",
   "execution_count": 8,
   "metadata": {},
   "outputs": [
    {
     "data": {
      "text/plain": [
       "False"
      ]
     },
     "execution_count": 8,
     "metadata": {},
     "output_type": "execute_result"
    }
   ],
   "source": [
    "for thread in stream_threads:\n",
    "    thread.stop()\n",
    "    \n",
    "for thread in stream_threads:\n",
    "    thread.join()\n",
    "\n",
    "stream_threads[0].is_alive()"
   ]
  },
  {
   "cell_type": "markdown",
   "metadata": {},
   "source": [
    "## Online serving"
   ]
  },
  {
   "cell_type": "code",
   "execution_count": 9,
   "metadata": {},
   "outputs": [
    {
     "ename": "AttributeError",
     "evalue": "_pb",
     "output_type": "error",
     "traceback": [
      "\u001b[0;31m---------------------------------------------------------------------------\u001b[0m",
      "\u001b[0;31mAttributeError\u001b[0m                            Traceback (most recent call last)",
      "Cell \u001b[0;32mIn[9], line 7\u001b[0m\n\u001b[1;32m      1\u001b[0m fs \u001b[38;5;241m=\u001b[39m aiplatform\u001b[38;5;241m.\u001b[39mFeaturestore(\n\u001b[1;32m      2\u001b[0m         \u001b[38;5;124m\"\u001b[39m\u001b[38;5;124mprojects/ml-lab-324709\u001b[39m\u001b[38;5;124m\"\u001b[39m\n\u001b[1;32m      3\u001b[0m         \u001b[38;5;124m\"\u001b[39m\u001b[38;5;124m/locations/europe-west1\u001b[39m\u001b[38;5;124m\"\u001b[39m\n\u001b[1;32m      4\u001b[0m         \u001b[38;5;124m\"\u001b[39m\u001b[38;5;124m/featurestores/realestate\u001b[39m\u001b[38;5;124m\"\u001b[39m\n\u001b[1;32m      5\u001b[0m     )\n\u001b[1;32m      6\u001b[0m entity \u001b[38;5;241m=\u001b[39m fs\u001b[38;5;241m.\u001b[39mget_entity_type(entity_type_id\u001b[38;5;241m=\u001b[39m\u001b[38;5;124m\"\u001b[39m\u001b[38;5;124mhouse\u001b[39m\u001b[38;5;124m\"\u001b[39m)\n\u001b[0;32m----> 7\u001b[0m entity\u001b[38;5;241m.\u001b[39mread(entity_ids\u001b[38;5;241m=\u001b[39m\u001b[38;5;124m\"\u001b[39m\u001b[38;5;124m1\u001b[39m\u001b[38;5;124m\"\u001b[39m)\n",
      "File \u001b[0;32m/opt/homebrew/anaconda3/envs/vertex/lib/python3.11/site-packages/google/cloud/aiplatform/featurestore/_entity_type.py:1496\u001b[0m, in \u001b[0;36m_EntityType.read\u001b[0;34m(self, entity_ids, feature_ids, request_metadata, read_request_timeout)\u001b[0m\n\u001b[1;32m   1487\u001b[0m     entity_views \u001b[38;5;241m=\u001b[39m [\n\u001b[1;32m   1488\u001b[0m         response\u001b[38;5;241m.\u001b[39mentity_view\n\u001b[1;32m   1489\u001b[0m         \u001b[38;5;28;01mfor\u001b[39;00m response \u001b[38;5;129;01min\u001b[39;00m streaming_read_feature_values_responses[\u001b[38;5;241m1\u001b[39m:]\n\u001b[1;32m   1490\u001b[0m     ]\n\u001b[1;32m   1492\u001b[0m feature_ids \u001b[38;5;241m=\u001b[39m [\n\u001b[1;32m   1493\u001b[0m     feature_descriptor\u001b[38;5;241m.\u001b[39mid \u001b[38;5;28;01mfor\u001b[39;00m feature_descriptor \u001b[38;5;129;01min\u001b[39;00m header\u001b[38;5;241m.\u001b[39mfeature_descriptors\n\u001b[1;32m   1494\u001b[0m ]\n\u001b[0;32m-> 1496\u001b[0m \u001b[38;5;28;01mreturn\u001b[39;00m \u001b[38;5;28mself\u001b[39m\u001b[38;5;241m.\u001b[39m_construct_dataframe(\n\u001b[1;32m   1497\u001b[0m     feature_ids\u001b[38;5;241m=\u001b[39mfeature_ids,\n\u001b[1;32m   1498\u001b[0m     entity_views\u001b[38;5;241m=\u001b[39mentity_views,\n\u001b[1;32m   1499\u001b[0m )\n",
      "File \u001b[0;32m/opt/homebrew/anaconda3/envs/vertex/lib/python3.11/site-packages/google/cloud/aiplatform/featurestore/_entity_type.py:1541\u001b[0m, in \u001b[0;36m_EntityType._construct_dataframe\u001b[0;34m(feature_ids, entity_views)\u001b[0m\n\u001b[1;32m   1539\u001b[0m entity_data \u001b[38;5;241m=\u001b[39m {\u001b[38;5;124m\"\u001b[39m\u001b[38;5;124mentity_id\u001b[39m\u001b[38;5;124m\"\u001b[39m: entity_view\u001b[38;5;241m.\u001b[39mentity_id}\n\u001b[1;32m   1540\u001b[0m \u001b[38;5;28;01mfor\u001b[39;00m feature_id, feature_data \u001b[38;5;129;01min\u001b[39;00m \u001b[38;5;28mzip\u001b[39m(feature_ids, entity_view\u001b[38;5;241m.\u001b[39mdata):\n\u001b[0;32m-> 1541\u001b[0m     \u001b[38;5;28;01mif\u001b[39;00m feature_data\u001b[38;5;241m.\u001b[39m_pb\u001b[38;5;241m.\u001b[39mHasField(\u001b[38;5;124m\"\u001b[39m\u001b[38;5;124mvalue\u001b[39m\u001b[38;5;124m\"\u001b[39m):\n\u001b[1;32m   1542\u001b[0m         value_type \u001b[38;5;241m=\u001b[39m feature_data\u001b[38;5;241m.\u001b[39mvalue\u001b[38;5;241m.\u001b[39m_pb\u001b[38;5;241m.\u001b[39mWhichOneof(\u001b[38;5;124m\"\u001b[39m\u001b[38;5;124mvalue\u001b[39m\u001b[38;5;124m\"\u001b[39m)\n\u001b[1;32m   1543\u001b[0m         feature_value \u001b[38;5;241m=\u001b[39m \u001b[38;5;28mgetattr\u001b[39m(feature_data\u001b[38;5;241m.\u001b[39mvalue, value_type)\n",
      "\u001b[0;31mAttributeError\u001b[0m: _pb"
     ]
    }
   ],
   "source": [
    "fs = aiplatform.Featurestore(\n",
    "        \"projects/ml-lab-324709\"\n",
    "        \"/locations/europe-west1\"\n",
    "        \"/featurestores/realestate\"\n",
    "    )\n",
    "entity = fs.get_entity_type(entity_type_id=\"house\")\n",
    "entity.read(entity_ids=\"1\")"
   ]
  },
  {
   "cell_type": "code",
   "execution_count": 20,
   "metadata": {},
   "outputs": [
    {
     "ename": "AttributeError",
     "evalue": "_pb",
     "output_type": "error",
     "traceback": [
      "\u001b[0;31m---------------------------------------------------------------------------\u001b[0m",
      "\u001b[0;31mAttributeError\u001b[0m                            Traceback (most recent call last)",
      "Cell \u001b[0;32mIn[20], line 1\u001b[0m\n\u001b[0;32m----> 1\u001b[0m entity\u001b[38;5;241m.\u001b[39mread(entity_ids\u001b[38;5;241m=\u001b[39m\u001b[38;5;124m\"\u001b[39m\u001b[38;5;124m1\u001b[39m\u001b[38;5;124m\"\u001b[39m)\n",
      "File \u001b[0;32m/opt/homebrew/anaconda3/envs/vertex/lib/python3.11/site-packages/google/cloud/aiplatform/featurestore/_entity_type.py:1496\u001b[0m, in \u001b[0;36m_EntityType.read\u001b[0;34m(self, entity_ids, feature_ids, request_metadata, read_request_timeout)\u001b[0m\n\u001b[1;32m   1487\u001b[0m     entity_views \u001b[38;5;241m=\u001b[39m [\n\u001b[1;32m   1488\u001b[0m         response\u001b[38;5;241m.\u001b[39mentity_view\n\u001b[1;32m   1489\u001b[0m         \u001b[38;5;28;01mfor\u001b[39;00m response \u001b[38;5;129;01min\u001b[39;00m streaming_read_feature_values_responses[\u001b[38;5;241m1\u001b[39m:]\n\u001b[1;32m   1490\u001b[0m     ]\n\u001b[1;32m   1492\u001b[0m feature_ids \u001b[38;5;241m=\u001b[39m [\n\u001b[1;32m   1493\u001b[0m     feature_descriptor\u001b[38;5;241m.\u001b[39mid \u001b[38;5;28;01mfor\u001b[39;00m feature_descriptor \u001b[38;5;129;01min\u001b[39;00m header\u001b[38;5;241m.\u001b[39mfeature_descriptors\n\u001b[1;32m   1494\u001b[0m ]\n\u001b[0;32m-> 1496\u001b[0m \u001b[38;5;28;01mreturn\u001b[39;00m \u001b[38;5;28mself\u001b[39m\u001b[38;5;241m.\u001b[39m_construct_dataframe(\n\u001b[1;32m   1497\u001b[0m     feature_ids\u001b[38;5;241m=\u001b[39mfeature_ids,\n\u001b[1;32m   1498\u001b[0m     entity_views\u001b[38;5;241m=\u001b[39mentity_views,\n\u001b[1;32m   1499\u001b[0m )\n",
      "File \u001b[0;32m/opt/homebrew/anaconda3/envs/vertex/lib/python3.11/site-packages/google/cloud/aiplatform/featurestore/_entity_type.py:1541\u001b[0m, in \u001b[0;36m_EntityType._construct_dataframe\u001b[0;34m(feature_ids, entity_views)\u001b[0m\n\u001b[1;32m   1539\u001b[0m entity_data \u001b[38;5;241m=\u001b[39m {\u001b[38;5;124m\"\u001b[39m\u001b[38;5;124mentity_id\u001b[39m\u001b[38;5;124m\"\u001b[39m: entity_view\u001b[38;5;241m.\u001b[39mentity_id}\n\u001b[1;32m   1540\u001b[0m \u001b[38;5;28;01mfor\u001b[39;00m feature_id, feature_data \u001b[38;5;129;01min\u001b[39;00m \u001b[38;5;28mzip\u001b[39m(feature_ids, entity_view\u001b[38;5;241m.\u001b[39mdata):\n\u001b[0;32m-> 1541\u001b[0m     \u001b[38;5;28;01mif\u001b[39;00m feature_data\u001b[38;5;241m.\u001b[39m_pb\u001b[38;5;241m.\u001b[39mHasField(\u001b[38;5;124m\"\u001b[39m\u001b[38;5;124mvalue\u001b[39m\u001b[38;5;124m\"\u001b[39m):\n\u001b[1;32m   1542\u001b[0m         value_type \u001b[38;5;241m=\u001b[39m feature_data\u001b[38;5;241m.\u001b[39mvalue\u001b[38;5;241m.\u001b[39m_pb\u001b[38;5;241m.\u001b[39mWhichOneof(\u001b[38;5;124m\"\u001b[39m\u001b[38;5;124mvalue\u001b[39m\u001b[38;5;124m\"\u001b[39m)\n\u001b[1;32m   1543\u001b[0m         feature_value \u001b[38;5;241m=\u001b[39m \u001b[38;5;28mgetattr\u001b[39m(feature_data\u001b[38;5;241m.\u001b[39mvalue, value_type)\n",
      "\u001b[0;31mAttributeError\u001b[0m: _pb"
     ]
    }
   ],
   "source": [
    "entity.read(entity_ids=\"1\")"
   ]
  },
  {
   "cell_type": "code",
   "execution_count": 1,
   "metadata": {},
   "outputs": [],
   "source": [
    "from google.cloud import aiplatform_v1beta1 as aiplatform"
   ]
  },
  {
   "cell_type": "code",
   "execution_count": 2,
   "metadata": {},
   "outputs": [
    {
     "name": "stderr",
     "output_type": "stream",
     "text": [
      "E0128 15:55:52.425052000 8029278208 hpack_parser.cc:999]               Error parsing 'content-type' metadata: invalid value\n"
     ]
    },
    {
     "ename": "Unknown",
     "evalue": "None Stream removed",
     "output_type": "error",
     "traceback": [
      "\u001b[0;31m---------------------------------------------------------------------------\u001b[0m",
      "\u001b[0;31m_InactiveRpcError\u001b[0m                         Traceback (most recent call last)",
      "File \u001b[0;32m/opt/homebrew/anaconda3/envs/vertex/lib/python3.11/site-packages/google/api_core/grpc_helpers.py:79\u001b[0m, in \u001b[0;36m_wrap_unary_errors.<locals>.error_remapped_callable\u001b[0;34m(*args, **kwargs)\u001b[0m\n\u001b[1;32m     78\u001b[0m \u001b[38;5;28;01mtry\u001b[39;00m:\n\u001b[0;32m---> 79\u001b[0m     \u001b[38;5;28;01mreturn\u001b[39;00m callable_(\u001b[38;5;241m*\u001b[39margs, \u001b[38;5;241m*\u001b[39m\u001b[38;5;241m*\u001b[39mkwargs)\n\u001b[1;32m     80\u001b[0m \u001b[38;5;28;01mexcept\u001b[39;00m grpc\u001b[38;5;241m.\u001b[39mRpcError \u001b[38;5;28;01mas\u001b[39;00m exc:\n",
      "File \u001b[0;32m/opt/homebrew/anaconda3/envs/vertex/lib/python3.11/site-packages/grpc/_channel.py:1160\u001b[0m, in \u001b[0;36m_UnaryUnaryMultiCallable.__call__\u001b[0;34m(self, request, timeout, metadata, credentials, wait_for_ready, compression)\u001b[0m\n\u001b[1;32m   1154\u001b[0m (\n\u001b[1;32m   1155\u001b[0m     state,\n\u001b[1;32m   1156\u001b[0m     call,\n\u001b[1;32m   1157\u001b[0m ) \u001b[38;5;241m=\u001b[39m \u001b[38;5;28mself\u001b[39m\u001b[38;5;241m.\u001b[39m_blocking(\n\u001b[1;32m   1158\u001b[0m     request, timeout, metadata, credentials, wait_for_ready, compression\n\u001b[1;32m   1159\u001b[0m )\n\u001b[0;32m-> 1160\u001b[0m \u001b[38;5;28;01mreturn\u001b[39;00m _end_unary_response_blocking(state, call, \u001b[38;5;28;01mFalse\u001b[39;00m, \u001b[38;5;28;01mNone\u001b[39;00m)\n",
      "File \u001b[0;32m/opt/homebrew/anaconda3/envs/vertex/lib/python3.11/site-packages/grpc/_channel.py:1003\u001b[0m, in \u001b[0;36m_end_unary_response_blocking\u001b[0;34m(state, call, with_call, deadline)\u001b[0m\n\u001b[1;32m   1002\u001b[0m \u001b[38;5;28;01melse\u001b[39;00m:\n\u001b[0;32m-> 1003\u001b[0m     \u001b[38;5;28;01mraise\u001b[39;00m _InactiveRpcError(state)\n",
      "\u001b[0;31m_InactiveRpcError\u001b[0m: <_InactiveRpcError of RPC that terminated with:\n\tstatus = StatusCode.UNKNOWN\n\tdetails = \"Stream removed\"\n\tdebug_error_string = \"UNKNOWN:Error received from peer  {grpc_message:\"Stream removed\", grpc_status:2, created_time:\"2024-01-28T15:55:52.42516+01:00\"}\"\n>",
      "\nThe above exception was the direct cause of the following exception:\n",
      "\u001b[0;31mUnknown\u001b[0m                                   Traceback (most recent call last)",
      "Cell \u001b[0;32mIn[2], line 7\u001b[0m\n\u001b[1;32m      1\u001b[0m client \u001b[38;5;241m=\u001b[39m aiplatform\u001b[38;5;241m.\u001b[39mservices\u001b[38;5;241m.\u001b[39mfeaturestore_service\u001b[38;5;241m.\u001b[39mFeaturestoreServiceClient()\n\u001b[1;32m      2\u001b[0m fs_name \u001b[38;5;241m=\u001b[39m (\n\u001b[1;32m      3\u001b[0m     \u001b[38;5;124m\"\u001b[39m\u001b[38;5;124mprojects/ml-lab-324709\u001b[39m\u001b[38;5;124m\"\u001b[39m\n\u001b[1;32m      4\u001b[0m     \u001b[38;5;124m\"\u001b[39m\u001b[38;5;124m/locations/europe-west1\u001b[39m\u001b[38;5;124m\"\u001b[39m\n\u001b[1;32m      5\u001b[0m     \u001b[38;5;124m\"\u001b[39m\u001b[38;5;124m/featurestores/realestate2\u001b[39m\u001b[38;5;124m\"\u001b[39m \n\u001b[1;32m      6\u001b[0m ) \n\u001b[0;32m----> 7\u001b[0m fs \u001b[38;5;241m=\u001b[39m client\u001b[38;5;241m.\u001b[39mget_featurestore(name\u001b[38;5;241m=\u001b[39mfs_name)\n",
      "File \u001b[0;32m/opt/homebrew/anaconda3/envs/vertex/lib/python3.11/site-packages/google/cloud/aiplatform_v1beta1/services/featurestore_service/client.py:760\u001b[0m, in \u001b[0;36mFeaturestoreServiceClient.get_featurestore\u001b[0;34m(self, request, name, retry, timeout, metadata)\u001b[0m\n\u001b[1;32m    755\u001b[0m metadata \u001b[38;5;241m=\u001b[39m \u001b[38;5;28mtuple\u001b[39m(metadata) \u001b[38;5;241m+\u001b[39m (\n\u001b[1;32m    756\u001b[0m     gapic_v1\u001b[38;5;241m.\u001b[39mrouting_header\u001b[38;5;241m.\u001b[39mto_grpc_metadata(((\u001b[38;5;124m\"\u001b[39m\u001b[38;5;124mname\u001b[39m\u001b[38;5;124m\"\u001b[39m, request\u001b[38;5;241m.\u001b[39mname),)),\n\u001b[1;32m    757\u001b[0m )\n\u001b[1;32m    759\u001b[0m \u001b[38;5;66;03m# Send the request.\u001b[39;00m\n\u001b[0;32m--> 760\u001b[0m response \u001b[38;5;241m=\u001b[39m rpc(\n\u001b[1;32m    761\u001b[0m     request,\n\u001b[1;32m    762\u001b[0m     retry\u001b[38;5;241m=\u001b[39mretry,\n\u001b[1;32m    763\u001b[0m     timeout\u001b[38;5;241m=\u001b[39mtimeout,\n\u001b[1;32m    764\u001b[0m     metadata\u001b[38;5;241m=\u001b[39mmetadata,\n\u001b[1;32m    765\u001b[0m )\n\u001b[1;32m    767\u001b[0m \u001b[38;5;66;03m# Done; return the response.\u001b[39;00m\n\u001b[1;32m    768\u001b[0m \u001b[38;5;28;01mreturn\u001b[39;00m response\n",
      "File \u001b[0;32m/opt/homebrew/anaconda3/envs/vertex/lib/python3.11/site-packages/google/api_core/gapic_v1/method.py:131\u001b[0m, in \u001b[0;36m_GapicCallable.__call__\u001b[0;34m(self, timeout, retry, compression, *args, **kwargs)\u001b[0m\n\u001b[1;32m    128\u001b[0m \u001b[38;5;28;01mif\u001b[39;00m \u001b[38;5;28mself\u001b[39m\u001b[38;5;241m.\u001b[39m_compression \u001b[38;5;129;01mis\u001b[39;00m \u001b[38;5;129;01mnot\u001b[39;00m \u001b[38;5;28;01mNone\u001b[39;00m:\n\u001b[1;32m    129\u001b[0m     kwargs[\u001b[38;5;124m\"\u001b[39m\u001b[38;5;124mcompression\u001b[39m\u001b[38;5;124m\"\u001b[39m] \u001b[38;5;241m=\u001b[39m compression\n\u001b[0;32m--> 131\u001b[0m \u001b[38;5;28;01mreturn\u001b[39;00m wrapped_func(\u001b[38;5;241m*\u001b[39margs, \u001b[38;5;241m*\u001b[39m\u001b[38;5;241m*\u001b[39mkwargs)\n",
      "File \u001b[0;32m/opt/homebrew/anaconda3/envs/vertex/lib/python3.11/site-packages/google/api_core/timeout.py:120\u001b[0m, in \u001b[0;36mTimeToDeadlineTimeout.__call__.<locals>.func_with_timeout\u001b[0;34m(*args, **kwargs)\u001b[0m\n\u001b[1;32m    117\u001b[0m     \u001b[38;5;66;03m# Avoid setting negative timeout\u001b[39;00m\n\u001b[1;32m    118\u001b[0m     kwargs[\u001b[38;5;124m\"\u001b[39m\u001b[38;5;124mtimeout\u001b[39m\u001b[38;5;124m\"\u001b[39m] \u001b[38;5;241m=\u001b[39m \u001b[38;5;28mmax\u001b[39m(\u001b[38;5;241m0\u001b[39m, \u001b[38;5;28mself\u001b[39m\u001b[38;5;241m.\u001b[39m_timeout \u001b[38;5;241m-\u001b[39m time_since_first_attempt)\n\u001b[0;32m--> 120\u001b[0m \u001b[38;5;28;01mreturn\u001b[39;00m func(\u001b[38;5;241m*\u001b[39margs, \u001b[38;5;241m*\u001b[39m\u001b[38;5;241m*\u001b[39mkwargs)\n",
      "File \u001b[0;32m/opt/homebrew/anaconda3/envs/vertex/lib/python3.11/site-packages/google/api_core/grpc_helpers.py:81\u001b[0m, in \u001b[0;36m_wrap_unary_errors.<locals>.error_remapped_callable\u001b[0;34m(*args, **kwargs)\u001b[0m\n\u001b[1;32m     79\u001b[0m     \u001b[38;5;28;01mreturn\u001b[39;00m callable_(\u001b[38;5;241m*\u001b[39margs, \u001b[38;5;241m*\u001b[39m\u001b[38;5;241m*\u001b[39mkwargs)\n\u001b[1;32m     80\u001b[0m \u001b[38;5;28;01mexcept\u001b[39;00m grpc\u001b[38;5;241m.\u001b[39mRpcError \u001b[38;5;28;01mas\u001b[39;00m exc:\n\u001b[0;32m---> 81\u001b[0m     \u001b[38;5;28;01mraise\u001b[39;00m exceptions\u001b[38;5;241m.\u001b[39mfrom_grpc_error(exc) \u001b[38;5;28;01mfrom\u001b[39;00m \u001b[38;5;21;01mexc\u001b[39;00m\n",
      "\u001b[0;31mUnknown\u001b[0m: None Stream removed"
     ]
    }
   ],
   "source": [
    "client = aiplatform.services.featurestore_service.FeaturestoreServiceClient()\n",
    "fs_name = (\n",
    "    \"projects/ml-lab-324709\"\n",
    "    \"/locations/europe-west1\"\n",
    "    \"/featurestores/realestate2\" \n",
    ") \n",
    "fs = client.get_featurestore(name=fs_name)\n",
    "# request = aiplatform.GetFeaturestoreRequest(\n",
    "# )\n",
    "# fs = client.get_featurestore(name=(\n",
    "#         \"projects/ml-lab-324709\"\n",
    "#         \"/locations/europe-west1\"\n",
    "#         \"/featurestores/realestate2\"        \n",
    "#     ))"
   ]
  },
  {
   "cell_type": "code",
   "execution_count": null,
   "metadata": {},
   "outputs": [],
   "source": []
  }
 ],
 "metadata": {
  "kernelspec": {
   "display_name": "vertex",
   "language": "python",
   "name": "python3"
  },
  "language_info": {
   "codemirror_mode": {
    "name": "ipython",
    "version": 3
   },
   "file_extension": ".py",
   "mimetype": "text/x-python",
   "name": "python",
   "nbconvert_exporter": "python",
   "pygments_lexer": "ipython3",
   "version": "3.11.7"
  }
 },
 "nbformat": 4,
 "nbformat_minor": 2
}
