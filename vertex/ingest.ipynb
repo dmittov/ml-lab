{
 "cells": [
  {
   "cell_type": "code",
   "execution_count": 3,
   "metadata": {},
   "outputs": [],
   "source": [
    "import pandas as pd\n",
    "from generated import (\n",
    "    house_area_pb2,\n",
    "    house_prices_pb2,\n",
    ")\n",
    "from google.cloud import pubsub_v1\n",
    "import google.auth\n",
    "import google.auth.transport.requests\n",
    "import httpx\n",
    "import functools\n",
    "import time\n",
    "import datetime\n",
    "from google.cloud import bigquery"
   ]
  },
  {
   "cell_type": "code",
   "execution_count": 4,
   "metadata": {},
   "outputs": [
    {
     "data": {
      "text/plain": [
       "(1460, 81)"
      ]
     },
     "execution_count": 4,
     "metadata": {},
     "output_type": "execute_result"
    }
   ],
   "source": [
    "df = pd.read_csv(\"home-data-for-ml-course/train.csv\")\n",
    "df.shape"
   ]
  },
  {
   "cell_type": "code",
   "execution_count": 5,
   "metadata": {},
   "outputs": [
    {
     "name": "stdout",
     "output_type": "stream",
     "text": [
      "ai_house_area\n",
      "ai_house_prices\n",
      "house_area\n",
      "house_prices\n"
     ]
    }
   ],
   "source": [
    "client = bigquery.Client()\n",
    "dataset_reference = bigquery.dataset.DatasetReference(\n",
    "    project=client.project,\n",
    "    dataset_id=\"house_pricing\")\n",
    "for tab in client.list_tables(dataset=dataset_reference):\n",
    "    print(tab.table_id)"
   ]
  },
  {
   "cell_type": "code",
   "execution_count": 6,
   "metadata": {},
   "outputs": [],
   "source": [
    "from google.cloud import aiplatform_v1beta1\n",
    "\n",
    "# doesn't work properly\n",
    "fs_client = aiplatform_v1beta1.FeatureRegistryServiceClient()"
   ]
  },
  {
   "cell_type": "code",
   "execution_count": 7,
   "metadata": {},
   "outputs": [],
   "source": [
    "publisher = pubsub_v1.PublisherClient()\n",
    "feature_topic = \"projects/ml-lab-324709/topics/house_area\"\n",
    "price_topic = \"projects/ml-lab-324709/topics/house_prices\"\n",
    "df = pd.read_csv(\"home-data-for-ml-course/train.csv\")\n",
    "for idx, row in df.iterrows():\n",
    "    utc_ts = int(time.mktime(\n",
    "        datetime.datetime.utcnow().timetuple()\n",
    "    ) * 1e6)  # python returns ts in seconds, bigquery expects micro-sec.\n",
    "    # fill HouseFeatures\n",
    "    feature_row = house_area_pb2.HouseArea()\n",
    "    feature_row.house_id = str(row.Id)\n",
    "    feature_row.house_valuation_timestamp = utc_ts\n",
    "    feature_row.flr_one_sq_feet = row[\"1stFlrSF\"]\n",
    "    feature_row.flr_two_sq_feet = row[\"2ndFlrSF\"]\n",
    "    # fill HousePrice\n",
    "    sales_row = house_prices_pb2.HousePrice()\n",
    "    sales_row.house_id = str(row.Id)\n",
    "    sales_row.sale_timestamp = utc_ts\n",
    "    sales_row.sale_price = row.SalePrice\n",
    "    # Publish messages\n",
    "    _ = publisher.publish(feature_topic, \n",
    "                          feature_row.SerializeToString())\n",
    "    _ = publisher.publish(price_topic, \n",
    "                          sales_row.SerializeToString())\n",
    "\n",
    "    if idx > 100:\n",
    "        break"
   ]
  },
  {
   "cell_type": "code",
   "execution_count": 9,
   "metadata": {},
   "outputs": [
    {
     "data": {
      "text/html": [
       "<div>\n",
       "<style scoped>\n",
       "    .dataframe tbody tr th:only-of-type {\n",
       "        vertical-align: middle;\n",
       "    }\n",
       "\n",
       "    .dataframe tbody tr th {\n",
       "        vertical-align: top;\n",
       "    }\n",
       "\n",
       "    .dataframe thead th {\n",
       "        text-align: right;\n",
       "    }\n",
       "</style>\n",
       "<table border=\"1\" class=\"dataframe\">\n",
       "  <thead>\n",
       "    <tr style=\"text-align: right;\">\n",
       "      <th></th>\n",
       "      <th>entity_id</th>\n",
       "      <th>feature_timestamp</th>\n",
       "      <th>flr_one_sq_feet</th>\n",
       "      <th>flr_two_sq_feet</th>\n",
       "      <th>house_sq_feet</th>\n",
       "    </tr>\n",
       "  </thead>\n",
       "  <tbody>\n",
       "    <tr>\n",
       "      <th>0</th>\n",
       "      <td>3</td>\n",
       "      <td>2024-01-28 14:01:01+00:00</td>\n",
       "      <td>920</td>\n",
       "      <td>866</td>\n",
       "      <td>1786</td>\n",
       "    </tr>\n",
       "    <tr>\n",
       "      <th>1</th>\n",
       "      <td>32</td>\n",
       "      <td>2024-01-28 14:01:01+00:00</td>\n",
       "      <td>1228</td>\n",
       "      <td>0</td>\n",
       "      <td>1228</td>\n",
       "    </tr>\n",
       "    <tr>\n",
       "      <th>2</th>\n",
       "      <td>33</td>\n",
       "      <td>2024-01-28 14:01:01+00:00</td>\n",
       "      <td>1234</td>\n",
       "      <td>0</td>\n",
       "      <td>1234</td>\n",
       "    </tr>\n",
       "    <tr>\n",
       "      <th>3</th>\n",
       "      <td>96</td>\n",
       "      <td>2024-01-28 14:01:01+00:00</td>\n",
       "      <td>680</td>\n",
       "      <td>790</td>\n",
       "      <td>1470</td>\n",
       "    </tr>\n",
       "    <tr>\n",
       "      <th>4</th>\n",
       "      <td>97</td>\n",
       "      <td>2024-01-28 14:01:01+00:00</td>\n",
       "      <td>1588</td>\n",
       "      <td>0</td>\n",
       "      <td>1588</td>\n",
       "    </tr>\n",
       "    <tr>\n",
       "      <th>5</th>\n",
       "      <td>98</td>\n",
       "      <td>2024-01-28 14:01:01+00:00</td>\n",
       "      <td>960</td>\n",
       "      <td>0</td>\n",
       "      <td>960</td>\n",
       "    </tr>\n",
       "    <tr>\n",
       "      <th>6</th>\n",
       "      <td>99</td>\n",
       "      <td>2024-01-28 14:01:01+00:00</td>\n",
       "      <td>835</td>\n",
       "      <td>0</td>\n",
       "      <td>835</td>\n",
       "    </tr>\n",
       "    <tr>\n",
       "      <th>7</th>\n",
       "      <td>13</td>\n",
       "      <td>2024-01-28 14:01:01+00:00</td>\n",
       "      <td>912</td>\n",
       "      <td>0</td>\n",
       "      <td>912</td>\n",
       "    </tr>\n",
       "    <tr>\n",
       "      <th>8</th>\n",
       "      <td>40</td>\n",
       "      <td>2024-01-28 14:01:01+00:00</td>\n",
       "      <td>1152</td>\n",
       "      <td>0</td>\n",
       "      <td>1152</td>\n",
       "    </tr>\n",
       "    <tr>\n",
       "      <th>9</th>\n",
       "      <td>41</td>\n",
       "      <td>2024-01-28 14:01:01+00:00</td>\n",
       "      <td>1324</td>\n",
       "      <td>0</td>\n",
       "      <td>1324</td>\n",
       "    </tr>\n",
       "  </tbody>\n",
       "</table>\n",
       "</div>"
      ],
      "text/plain": [
       "  entity_id         feature_timestamp  flr_one_sq_feet  flr_two_sq_feet  \\\n",
       "0         3 2024-01-28 14:01:01+00:00              920              866   \n",
       "1        32 2024-01-28 14:01:01+00:00             1228                0   \n",
       "2        33 2024-01-28 14:01:01+00:00             1234                0   \n",
       "3        96 2024-01-28 14:01:01+00:00              680              790   \n",
       "4        97 2024-01-28 14:01:01+00:00             1588                0   \n",
       "5        98 2024-01-28 14:01:01+00:00              960                0   \n",
       "6        99 2024-01-28 14:01:01+00:00              835                0   \n",
       "7        13 2024-01-28 14:01:01+00:00              912                0   \n",
       "8        40 2024-01-28 14:01:01+00:00             1152                0   \n",
       "9        41 2024-01-28 14:01:01+00:00             1324                0   \n",
       "\n",
       "   house_sq_feet  \n",
       "0           1786  \n",
       "1           1228  \n",
       "2           1234  \n",
       "3           1470  \n",
       "4           1588  \n",
       "5            960  \n",
       "6            835  \n",
       "7            912  \n",
       "8           1152  \n",
       "9           1324  "
      ]
     },
     "execution_count": 9,
     "metadata": {},
     "output_type": "execute_result"
    }
   ],
   "source": [
    "client = bigquery.Client()\n",
    "query = \"\"\"\n",
    "select *\n",
    "from house_pricing.ai_house_area\n",
    "limit 10\n",
    "\"\"\"\n",
    "query_job = client.query(query)\n",
    "query_job.result().to_dataframe()"
   ]
  },
  {
   "cell_type": "code",
   "execution_count": 10,
   "metadata": {},
   "outputs": [],
   "source": [
    "class GToken:\n",
    "    _cached_token: str = None\n",
    "\n",
    "    @classmethod\n",
    "    @property\n",
    "    @functools.lru_cache\n",
    "    def location_id(cls) -> str:\n",
    "        #TODO: replace with an API call, hardcode for now\n",
    "        return \"europe-west1\"\n",
    "\n",
    "    @classmethod\n",
    "    @property\n",
    "    @functools.lru_cache\n",
    "    def project_id(cls) -> str:\n",
    "        creds, project_id = google.auth.default()\n",
    "        _ = creds\n",
    "        return project_id\n",
    "    \n",
    "    @classmethod\n",
    "    @property\n",
    "    def token(cls) -> str:\n",
    "        creds, project_id = google.auth.default()\n",
    "        _ = project_id\n",
    "        if (not creds.valid) or (not creds.token):\n",
    "            auth_req = google.auth.transport.requests.Request()\n",
    "            creds.refresh(auth_req)\n",
    "            cls._cached_token = creds.token\n",
    "        return cls._cached_token"
   ]
  },
  {
   "cell_type": "code",
   "execution_count": 49,
   "metadata": {},
   "outputs": [],
   "source": [
    "class FeatureManager:\n",
    "\n",
    "    def register_feature(self,\n",
    "                         feature_group_name: str,\n",
    "                         name: str, \n",
    "                         column_name: str | None = None) -> dict:\n",
    "        if column_name is None:\n",
    "           column_name = name\n",
    "        url = (\n",
    "            f\"https://{GToken.location_id}-aiplatform.googleapis.com/v1\"\n",
    "            f\"/projects/{GToken.project_id}\"\n",
    "            f\"/locations/{GToken.location_id}\"\n",
    "            f\"/featureGroups/{feature_group_name}\"\n",
    "            \"/features\"\n",
    "        )\n",
    "        headers = {\n",
    "            \"Authorization\": f\"Bearer {GToken.token}\",\n",
    "            \"Content-Type\": \"application/json; charset=utf-8\",\n",
    "        }\n",
    "        params = dict(feature_id=name)\n",
    "        payload = dict(version_column_name=column_name)\n",
    "        with httpx.Client() as client:\n",
    "            response = client.post(\n",
    "                url=url, \n",
    "                headers=headers, \n",
    "                params=params,\n",
    "                json=payload,\n",
    "            )\n",
    "            return response.json()\n",
    "        \n",
    "    def remove_feature(self, feature_group_name: str, name: str) -> dict:\n",
    "        url = (\n",
    "            f\"https://{GToken.location_id}-aiplatform.googleapis.com/v1\"\n",
    "            f\"/projects/{GToken.project_id}\"\n",
    "            f\"/locations/{GToken.location_id}\"\n",
    "            f\"/featureGroups/{feature_group_name}\"\n",
    "            f\"/features/{name}\"\n",
    "        )\n",
    "        headers = {\n",
    "            \"Authorization\": f\"Bearer {GToken.token}\",\n",
    "            \"Content-Type\": \"application/json; charset=utf-8\",\n",
    "        }\n",
    "        with httpx.Client() as client:\n",
    "            response = client.delete(url=url, headers=headers)\n",
    "            return response.json()\n",
    "   \n",
    "    def remove_feature_group(self, name: str) -> dict:\n",
    "        headers = {\n",
    "            \"Authorization\": f\"Bearer {GToken.token}\",\n",
    "            \"Content-Type\": \"application/json; charset=utf-8\",\n",
    "        }\n",
    "        url = (\n",
    "            f\"https://{GToken.location_id}-aiplatform.googleapis.com/v1\"\n",
    "            f\"/projects/{GToken.project_id}\"\n",
    "            f\"/locations/{GToken.location_id}\"\n",
    "            f\"/featureGroups/{name}\"\n",
    "        )\n",
    "        params = dict(force=True)\n",
    "        with httpx.Client() as client:\n",
    "            response = client.delete(\n",
    "                url=url, \n",
    "                headers=headers,\n",
    "                params=params,\n",
    "            )\n",
    "            return response.json()\n",
    "\n",
    "\n",
    "    def create_feature_group(self, name: str, table_uri: str) -> dict:\n",
    "        headers = {\n",
    "            \"Authorization\": f\"Bearer {GToken.token}\",\n",
    "            \"Content-Type\": \"application/json; charset=utf-8\",\n",
    "        }\n",
    "        payload = dict(\n",
    "            big_query=dict(\n",
    "                big_query_source=dict(input_uri=table_uri)\n",
    "            ),\n",
    "            run_sync_immediately=True,\n",
    "        )\n",
    "        url = (\n",
    "            f\"https://{GToken.location_id}-aiplatform.googleapis.com/v1\"\n",
    "            f\"/projects/{GToken.project_id}\"\n",
    "            f\"/locations/{GToken.location_id}\"\n",
    "            f\"/featureGroups\"\n",
    "        )\n",
    "        params = dict(feature_group_id=name)\n",
    "        with httpx.Client() as client:\n",
    "            response = client.post(\n",
    "                url=url, \n",
    "                headers=headers,\n",
    "                params=params,\n",
    "                json=payload\n",
    "            )\n",
    "            return response.json()\n",
    "\n",
    "    def create_feature_view(self, \n",
    "                            feature_online_store: str,\n",
    "                            view_name: str,\n",
    "                            features: list[dict]) -> dict:\n",
    "        url = (\n",
    "            f\"https://{GToken.location_id}-aiplatform.googleapis.com/v1\"\n",
    "            f\"/projects/{GToken.project_id}\"\n",
    "            f\"/locations/{GToken.location_id}\"\n",
    "            f\"/featureOnlineStores/{feature_online_store}\"\n",
    "            f\"/featureViews\"\n",
    "        )\n",
    "        headers = {\n",
    "            \"Authorization\": f\"Bearer {GToken.token}\",\n",
    "            \"Content-Type\": \"application/json; charset=utf-8\",\n",
    "        }\n",
    "        params = dict(\n",
    "            feature_view_id=view_name,\n",
    "            run_sync_immediately=True,\n",
    "        )\n",
    "        payload = dict(\n",
    "            # name=view_name,\n",
    "            feature_registry_source=dict(\n",
    "                feature_groups=features\n",
    "            ),\n",
    "            sync_config={\n",
    "                \"cron\": \"0 * * * *\"  # every hour at 0 minute\n",
    "            }\n",
    "        )\n",
    "        print(payload)\n",
    "        with httpx.Client() as client:\n",
    "            response = client.post(\n",
    "                url=url,\n",
    "                params=params,\n",
    "                headers=headers,\n",
    "                json=payload,\n",
    "            )\n",
    "            return response\n",
    "\n",
    "    def remove_feature_view(self,\n",
    "                            feature_online_store: str,\n",
    "                            view_name: str) -> dict:\n",
    "        headers = {\n",
    "            \"Authorization\": f\"Bearer {GToken.token}\",\n",
    "            \"Content-Type\": \"application/json; charset=utf-8\",\n",
    "        }\n",
    "        url = (\n",
    "            f\"https://{GToken.location_id}-aiplatform.googleapis.com/v1\"\n",
    "            f\"/projects/{GToken.project_id}\"\n",
    "            f\"/locations/{GToken.location_id}\"\n",
    "            f\"/featureOnlineStores/{feature_online_store}\"\n",
    "            f\"/featureViews/{view_name}\"\n",
    "        )\n",
    "        with httpx.Client() as client:\n",
    "            response = client.delete(\n",
    "                url=url, \n",
    "                headers=headers,\n",
    "            )\n",
    "            return response.json()\n",
    "        \n",
    "    def list_sync_ops(self, feature_online_store: str, view_name: str) -> dict:\n",
    "        headers = {\n",
    "            \"Authorization\": f\"Bearer {GToken.token}\",\n",
    "            \"Content-Type\": \"application/json; charset=utf-8\",\n",
    "        }\n",
    "        url = (\n",
    "            f\"https://{GToken.location_id}-aiplatform.googleapis.com/v1beta1\"\n",
    "            f\"/projects/{GToken.project_id}\"\n",
    "            f\"/locations/{GToken.location_id}\"\n",
    "            f\"/featureOnlineStores/{feature_online_store}\"\n",
    "            f\"/featureViews/{view_name}\"\n",
    "            \"/featureViewSyncs\"\n",
    "        )\n",
    "        with httpx.Client() as client:\n",
    "            response = client.get(\n",
    "                url=url, \n",
    "                headers=headers,\n",
    "            )\n",
    "            return response.json()\n",
    "\n"
   ]
  },
  {
   "cell_type": "code",
   "execution_count": 50,
   "metadata": {},
   "outputs": [
    {
     "data": {
      "text/plain": [
       "{'featureViewSyncs': [{'name': 'projects/ml-lab-324709/locations/europe-west1/featureOnlineStores/house_pricing/featureViews/price_by_area_model/featureViewSyncs/1321892115101253632',\n",
       "   'createTime': '2024-01-28T15:05:58.462694Z',\n",
       "   'finalStatus': {},\n",
       "   'runTime': {'startTime': '2024-01-28T15:05:58.462694Z',\n",
       "    'endTime': '2024-01-28T15:16:34.590531Z'}}]}"
      ]
     },
     "execution_count": 50,
     "metadata": {},
     "output_type": "execute_result"
    }
   ],
   "source": [
    "feature_manager = FeatureManager()\n",
    "feature_manager.list_sync_ops(\"house_pricing\", \"price_by_area_model\")"
   ]
  },
  {
   "cell_type": "code",
   "execution_count": 12,
   "metadata": {},
   "outputs": [
    {
     "data": {
      "text/plain": [
       "{'name': 'projects/670967409083/locations/europe-west1/featureGroups/house_price/features/sale_price/operations/3147416355939024896',\n",
       " 'metadata': {'@type': 'type.googleapis.com/google.cloud.aiplatform.v1.CreateFeatureOperationMetadata',\n",
       "  'genericMetadata': {'createTime': '2024-01-28T15:01:27.893584Z',\n",
       "   'updateTime': '2024-01-28T15:01:27.893584Z'}},\n",
       " 'done': True,\n",
       " 'response': {'@type': 'type.googleapis.com/google.cloud.aiplatform.v1.Feature',\n",
       "  'name': 'projects/670967409083/locations/europe-west1/featureGroups/house_price/features/sale_price'}}"
      ]
     },
     "execution_count": 12,
     "metadata": {},
     "output_type": "execute_result"
    }
   ],
   "source": [
    "feature_manager = FeatureManager()\n",
    "\n",
    "feature_manager.register_feature(\"house_area\", \"flr_one_sq_feet\")\n",
    "feature_manager.register_feature(\"house_area\", \"flr_two_sq_feet\")\n",
    "feature_manager.register_feature(\"house_area\", \"house_sq_feet\")\n",
    "\n",
    "feature_manager.register_feature(\"house_price\", \"sale_price\")"
   ]
  },
  {
   "cell_type": "code",
   "execution_count": 8,
   "metadata": {},
   "outputs": [
    {
     "data": {
      "text/plain": [
       "{'error': {'code': 404,\n",
       "  'message': 'The FeatureView projects/670967409083/locations/europe-west1/featureOnlineStores/house_pricing/featureViews/price_by_area_model does not exist.',\n",
       "  'status': 'NOT_FOUND'}}"
      ]
     },
     "execution_count": 8,
     "metadata": {},
     "output_type": "execute_result"
    }
   ],
   "source": [
    "feature_manager = FeatureManager()\n",
    "feature_manager.remove_feature_view(\n",
    "    feature_online_store=\"house_pricing\",\n",
    "    view_name=\"price_by_area_model\",\n",
    ")"
   ]
  },
  {
   "cell_type": "code",
   "execution_count": 14,
   "metadata": {},
   "outputs": [
    {
     "name": "stdout",
     "output_type": "stream",
     "text": [
      "{'feature_registry_source': {'feature_groups': [{'feature_group_id': 'house_area', 'feature_ids': ['flr_one_sq_feet', 'flr_two_sq_feet', 'house_sq_feet']}]}, 'sync_config': {'cron': '0 * * * *'}}\n"
     ]
    },
    {
     "data": {
      "text/plain": [
       "<Response [200 OK]>"
      ]
     },
     "execution_count": 14,
     "metadata": {},
     "output_type": "execute_result"
    }
   ],
   "source": [
    "feature_manager = FeatureManager()\n",
    "\n",
    "feature_manager.create_feature_view(\n",
    "    feature_online_store=\"house_pricing\",\n",
    "    view_name=\"price_by_area_model\",\n",
    "    features=[\n",
    "        dict(\n",
    "            feature_group_id=\"house_area\",\n",
    "            feature_ids=[\"flr_one_sq_feet\", \"flr_two_sq_feet\", \"house_sq_feet\"],\n",
    "        ),\n",
    "    ]\n",
    ")"
   ]
  },
  {
   "cell_type": "code",
   "execution_count": 19,
   "metadata": {},
   "outputs": [],
   "source": [
    "from google.cloud.aiplatform_v1beta1 import FeatureOnlineStoreServiceClient\n",
    "from google.cloud.aiplatform_v1beta1 import (\n",
    "    FeatureViewDataKey,\n",
    "    FetchFeatureValuesRequest,\n",
    ")\n",
    "from google.cloud.aiplatform_v1beta1.services.feature_online_store_service.transports.grpc import FeatureOnlineStoreServiceGrpcTransport\n",
    "import grpc"
   ]
  },
  {
   "cell_type": "code",
   "execution_count": 42,
   "metadata": {},
   "outputs": [
    {
     "data": {
      "text/plain": [
       "<Format.KEY_VALUE: 1>"
      ]
     },
     "execution_count": 42,
     "metadata": {},
     "output_type": "execute_result"
    }
   ],
   "source": [
    "from google.cloud.aiplatform_v1beta1.types import feature_online_store_service as feature_online_store_service_pb2\n",
    "feature_online_store_service_pb2.FetchFeatureValuesRequest.Format.KEY_VALUE"
   ]
  },
  {
   "cell_type": "code",
   "execution_count": 70,
   "metadata": {},
   "outputs": [
    {
     "name": "stdout",
     "output_type": "stream",
     "text": [
      "https://europe-west1-aiplatform.googleapis.com/v1/projects/ml-lab-324709/locations/europe-west1/featureOnlineStores/house_pricing/featureViews/price_by_area_model:fetchFeatureValues\n"
     ]
    },
    {
     "data": {
      "text/plain": [
       "{'error': {'code': 501,\n",
       "  'message': 'Operation is not implemented, or supported, or enabled.',\n",
       "  'status': 'UNIMPLEMENTED'}}"
      ]
     },
     "execution_count": 70,
     "metadata": {},
     "output_type": "execute_result"
    }
   ],
   "source": [
    "feature_online_store = \"house_pricing\"\n",
    "view_name = \"price_by_area_model\"\n",
    "headers = {\n",
    "    \"Authorization\": f\"Bearer {GToken.token}\",\n",
    "    \"Content-Type\": \"application/json; charset=utf-8\",\n",
    "}\n",
    "url = (\n",
    "    f\"https://{GToken.location_id}-aiplatform.googleapis.com/v1\"\n",
    "    f\"/projects/{GToken.project_id}\"\n",
    "    f\"/locations/{GToken.location_id}\"\n",
    "    f\"/featureOnlineStores/{feature_online_store}\"\n",
    "    f\"/featureViews/{view_name}:fetchFeatureValues\"\n",
    ")\n",
    "payload = {\n",
    "  \"data_key\": {\n",
    "      \"key\": \"14\",\n",
    "  },\n",
    "  # \"data_format\": \"KEY_VALUE\",\n",
    "}\n",
    "features = dict()\n",
    "print(url)\n",
    "with httpx.Client() as client:\n",
    "    response = client.post(\n",
    "        url=url, \n",
    "        headers=headers,\n",
    "        json=payload,\n",
    "    )\n",
    "    features = response.json()\n",
    "features    "
   ]
  },
  {
   "cell_type": "code",
   "execution_count": null,
   "metadata": {},
   "outputs": [],
   "source": [
    "POST https://LOCATION_ID-aiplatform.googleapis.com/v1/projects/PROJECT_ID/locations/LOCATION_ID/featureOnlineStores/FEATUREONLINESTORE_NAME/featureViews/FEATUREVIEW_NAME:fetchFeatureValues\n"
   ]
  },
  {
   "cell_type": "code",
   "execution_count": 46,
   "metadata": {},
   "outputs": [
    {
     "ename": "MethodNotImplemented",
     "evalue": "501 Operation is not implemented, or supported, or enabled.",
     "output_type": "error",
     "traceback": [
      "\u001b[0;31m---------------------------------------------------------------------------\u001b[0m",
      "\u001b[0;31m_InactiveRpcError\u001b[0m                         Traceback (most recent call last)",
      "File \u001b[0;32m/opt/homebrew/anaconda3/envs/vertex/lib/python3.11/site-packages/google/api_core/grpc_helpers.py:79\u001b[0m, in \u001b[0;36m_wrap_unary_errors.<locals>.error_remapped_callable\u001b[0;34m(*args, **kwargs)\u001b[0m\n\u001b[1;32m     78\u001b[0m \u001b[38;5;28;01mtry\u001b[39;00m:\n\u001b[0;32m---> 79\u001b[0m     \u001b[38;5;28;01mreturn\u001b[39;00m callable_(\u001b[38;5;241m*\u001b[39margs, \u001b[38;5;241m*\u001b[39m\u001b[38;5;241m*\u001b[39mkwargs)\n\u001b[1;32m     80\u001b[0m \u001b[38;5;28;01mexcept\u001b[39;00m grpc\u001b[38;5;241m.\u001b[39mRpcError \u001b[38;5;28;01mas\u001b[39;00m exc:\n",
      "File \u001b[0;32m/opt/homebrew/anaconda3/envs/vertex/lib/python3.11/site-packages/grpc/_channel.py:1160\u001b[0m, in \u001b[0;36m_UnaryUnaryMultiCallable.__call__\u001b[0;34m(self, request, timeout, metadata, credentials, wait_for_ready, compression)\u001b[0m\n\u001b[1;32m   1154\u001b[0m (\n\u001b[1;32m   1155\u001b[0m     state,\n\u001b[1;32m   1156\u001b[0m     call,\n\u001b[1;32m   1157\u001b[0m ) \u001b[38;5;241m=\u001b[39m \u001b[38;5;28mself\u001b[39m\u001b[38;5;241m.\u001b[39m_blocking(\n\u001b[1;32m   1158\u001b[0m     request, timeout, metadata, credentials, wait_for_ready, compression\n\u001b[1;32m   1159\u001b[0m )\n\u001b[0;32m-> 1160\u001b[0m \u001b[38;5;28;01mreturn\u001b[39;00m _end_unary_response_blocking(state, call, \u001b[38;5;28;01mFalse\u001b[39;00m, \u001b[38;5;28;01mNone\u001b[39;00m)\n",
      "File \u001b[0;32m/opt/homebrew/anaconda3/envs/vertex/lib/python3.11/site-packages/grpc/_channel.py:1003\u001b[0m, in \u001b[0;36m_end_unary_response_blocking\u001b[0;34m(state, call, with_call, deadline)\u001b[0m\n\u001b[1;32m   1002\u001b[0m \u001b[38;5;28;01melse\u001b[39;00m:\n\u001b[0;32m-> 1003\u001b[0m     \u001b[38;5;28;01mraise\u001b[39;00m _InactiveRpcError(state)\n",
      "\u001b[0;31m_InactiveRpcError\u001b[0m: <_InactiveRpcError of RPC that terminated with:\n\tstatus = StatusCode.UNIMPLEMENTED\n\tdetails = \"Operation is not implemented, or supported, or enabled.\"\n\tdebug_error_string = \"UNKNOWN:Error received from peer ipv6:%5B2a00:1450:4005:800::200a%5D:443 {grpc_message:\"Operation is not implemented, or supported, or enabled.\", grpc_status:12, created_time:\"2024-01-28T16:27:36.943024+01:00\"}\"\n>",
      "\nThe above exception was the direct cause of the following exception:\n",
      "\u001b[0;31mMethodNotImplemented\u001b[0m                      Traceback (most recent call last)",
      "Cell \u001b[0;32mIn[46], line 7\u001b[0m\n\u001b[1;32m      2\u001b[0m \u001b[38;5;28;01mfrom\u001b[39;00m \u001b[38;5;21;01mgoogle\u001b[39;00m\u001b[38;5;21;01m.\u001b[39;00m\u001b[38;5;21;01mcloud\u001b[39;00m\u001b[38;5;21;01m.\u001b[39;00m\u001b[38;5;21;01maiplatform_v1beta1\u001b[39;00m\u001b[38;5;21;01m.\u001b[39;00m\u001b[38;5;21;01mtypes\u001b[39;00m \u001b[38;5;28;01mimport\u001b[39;00m feature_online_store_service \u001b[38;5;28;01mas\u001b[39;00m feature_online_store_service_pb2\n\u001b[1;32m      4\u001b[0m data_client \u001b[38;5;241m=\u001b[39m FeatureOnlineStoreServiceClient(\n\u001b[1;32m      5\u001b[0m   client_options\u001b[38;5;241m=\u001b[39m{\u001b[38;5;124m\"\u001b[39m\u001b[38;5;124mapi_endpoint\u001b[39m\u001b[38;5;124m\"\u001b[39m: \u001b[38;5;124mf\u001b[39m\u001b[38;5;124m\"\u001b[39m\u001b[38;5;132;01m{\u001b[39;00mGToken\u001b[38;5;241m.\u001b[39mlocation_id\u001b[38;5;132;01m}\u001b[39;00m\u001b[38;5;124m-aiplatform.googleapis.com\u001b[39m\u001b[38;5;124m\"\u001b[39m}\n\u001b[1;32m      6\u001b[0m )\n\u001b[0;32m----> 7\u001b[0m data_client\u001b[38;5;241m.\u001b[39mfetch_feature_values(\n\u001b[1;32m      8\u001b[0m   request\u001b[38;5;241m=\u001b[39mfeature_online_store_service_pb2\u001b[38;5;241m.\u001b[39mFetchFeatureValuesRequest(\n\u001b[1;32m      9\u001b[0m     feature_view\u001b[38;5;241m=\u001b[39m(\n\u001b[1;32m     10\u001b[0m         \u001b[38;5;124mf\u001b[39m\u001b[38;5;124m\"\u001b[39m\u001b[38;5;124mprojects/\u001b[39m\u001b[38;5;132;01m{\u001b[39;00mGToken\u001b[38;5;241m.\u001b[39mproject_id\u001b[38;5;132;01m}\u001b[39;00m\u001b[38;5;124m/locations/\u001b[39m\u001b[38;5;132;01m{\u001b[39;00mGToken\u001b[38;5;241m.\u001b[39mlocation_id\u001b[38;5;132;01m}\u001b[39;00m\u001b[38;5;124m\"\u001b[39m\n\u001b[1;32m     11\u001b[0m         \u001b[38;5;124mf\u001b[39m\u001b[38;5;124m\"\u001b[39m\u001b[38;5;124m/featureOnlineStores/house_pricing/featureViews/price_by_area_model\u001b[39m\u001b[38;5;124m\"\u001b[39m\n\u001b[1;32m     12\u001b[0m     ),\n\u001b[1;32m     13\u001b[0m     data_key\u001b[38;5;241m=\u001b[39mfeature_online_store_service_pb2\u001b[38;5;241m.\u001b[39mFeatureViewDataKey(key\u001b[38;5;241m=\u001b[39m\u001b[38;5;124m\"\u001b[39m\u001b[38;5;124m1\u001b[39m\u001b[38;5;124m\"\u001b[39m),\n\u001b[1;32m     14\u001b[0m     \u001b[38;5;28mformat\u001b[39m\u001b[38;5;241m=\u001b[39mfeature_online_store_service_pb2\u001b[38;5;241m.\u001b[39mFetchFeatureValuesRequest\u001b[38;5;241m.\u001b[39mFormat\u001b[38;5;241m.\u001b[39mKEY_VALUE,\n\u001b[1;32m     15\u001b[0m   )\n\u001b[1;32m     16\u001b[0m )\n",
      "File \u001b[0;32m/opt/homebrew/anaconda3/envs/vertex/lib/python3.11/site-packages/google/cloud/aiplatform_v1beta1/services/feature_online_store_service/client.py:560\u001b[0m, in \u001b[0;36mFeatureOnlineStoreServiceClient.fetch_feature_values\u001b[0;34m(self, request, feature_view, data_key, retry, timeout, metadata)\u001b[0m\n\u001b[1;32m    553\u001b[0m metadata \u001b[38;5;241m=\u001b[39m \u001b[38;5;28mtuple\u001b[39m(metadata) \u001b[38;5;241m+\u001b[39m (\n\u001b[1;32m    554\u001b[0m     gapic_v1\u001b[38;5;241m.\u001b[39mrouting_header\u001b[38;5;241m.\u001b[39mto_grpc_metadata(\n\u001b[1;32m    555\u001b[0m         ((\u001b[38;5;124m\"\u001b[39m\u001b[38;5;124mfeature_view\u001b[39m\u001b[38;5;124m\"\u001b[39m, request\u001b[38;5;241m.\u001b[39mfeature_view),)\n\u001b[1;32m    556\u001b[0m     ),\n\u001b[1;32m    557\u001b[0m )\n\u001b[1;32m    559\u001b[0m \u001b[38;5;66;03m# Send the request.\u001b[39;00m\n\u001b[0;32m--> 560\u001b[0m response \u001b[38;5;241m=\u001b[39m rpc(\n\u001b[1;32m    561\u001b[0m     request,\n\u001b[1;32m    562\u001b[0m     retry\u001b[38;5;241m=\u001b[39mretry,\n\u001b[1;32m    563\u001b[0m     timeout\u001b[38;5;241m=\u001b[39mtimeout,\n\u001b[1;32m    564\u001b[0m     metadata\u001b[38;5;241m=\u001b[39mmetadata,\n\u001b[1;32m    565\u001b[0m )\n\u001b[1;32m    567\u001b[0m \u001b[38;5;66;03m# Done; return the response.\u001b[39;00m\n\u001b[1;32m    568\u001b[0m \u001b[38;5;28;01mreturn\u001b[39;00m response\n",
      "File \u001b[0;32m/opt/homebrew/anaconda3/envs/vertex/lib/python3.11/site-packages/google/api_core/gapic_v1/method.py:131\u001b[0m, in \u001b[0;36m_GapicCallable.__call__\u001b[0;34m(self, timeout, retry, compression, *args, **kwargs)\u001b[0m\n\u001b[1;32m    128\u001b[0m \u001b[38;5;28;01mif\u001b[39;00m \u001b[38;5;28mself\u001b[39m\u001b[38;5;241m.\u001b[39m_compression \u001b[38;5;129;01mis\u001b[39;00m \u001b[38;5;129;01mnot\u001b[39;00m \u001b[38;5;28;01mNone\u001b[39;00m:\n\u001b[1;32m    129\u001b[0m     kwargs[\u001b[38;5;124m\"\u001b[39m\u001b[38;5;124mcompression\u001b[39m\u001b[38;5;124m\"\u001b[39m] \u001b[38;5;241m=\u001b[39m compression\n\u001b[0;32m--> 131\u001b[0m \u001b[38;5;28;01mreturn\u001b[39;00m wrapped_func(\u001b[38;5;241m*\u001b[39margs, \u001b[38;5;241m*\u001b[39m\u001b[38;5;241m*\u001b[39mkwargs)\n",
      "File \u001b[0;32m/opt/homebrew/anaconda3/envs/vertex/lib/python3.11/site-packages/google/api_core/grpc_helpers.py:81\u001b[0m, in \u001b[0;36m_wrap_unary_errors.<locals>.error_remapped_callable\u001b[0;34m(*args, **kwargs)\u001b[0m\n\u001b[1;32m     79\u001b[0m     \u001b[38;5;28;01mreturn\u001b[39;00m callable_(\u001b[38;5;241m*\u001b[39margs, \u001b[38;5;241m*\u001b[39m\u001b[38;5;241m*\u001b[39mkwargs)\n\u001b[1;32m     80\u001b[0m \u001b[38;5;28;01mexcept\u001b[39;00m grpc\u001b[38;5;241m.\u001b[39mRpcError \u001b[38;5;28;01mas\u001b[39;00m exc:\n\u001b[0;32m---> 81\u001b[0m     \u001b[38;5;28;01mraise\u001b[39;00m exceptions\u001b[38;5;241m.\u001b[39mfrom_grpc_error(exc) \u001b[38;5;28;01mfrom\u001b[39;00m \u001b[38;5;21;01mexc\u001b[39;00m\n",
      "\u001b[0;31mMethodNotImplemented\u001b[0m: 501 Operation is not implemented, or supported, or enabled."
     ]
    }
   ],
   "source": [
    "from google.cloud.aiplatform_v1beta1 import FeatureOnlineStoreServiceClient\n",
    "from google.cloud.aiplatform_v1beta1.types import feature_online_store_service as feature_online_store_service_pb2\n",
    "\n",
    "data_client = FeatureOnlineStoreServiceClient(\n",
    "  client_options={\"api_endpoint\": f\"{GToken.location_id}-aiplatform.googleapis.com\"}\n",
    ")\n",
    "data_client.fetch_feature_values(\n",
    "  request=feature_online_store_service_pb2.FetchFeatureValuesRequest(\n",
    "    feature_view=(\n",
    "        f\"projects/{GToken.project_id}/locations/{GToken.location_id}\"\n",
    "        f\"/featureOnlineStores/house_pricing/featureViews/price_by_area_model\"\n",
    "    ),\n",
    "    data_key=feature_online_store_service_pb2.FeatureViewDataKey(key=\"1\"),\n",
    "    format=feature_online_store_service_pb2.FetchFeatureValuesRequest.Format.KEY_VALUE,\n",
    "  )\n",
    ")"
   ]
  },
  {
   "cell_type": "code",
   "execution_count": 20,
   "metadata": {},
   "outputs": [
    {
     "name": "stderr",
     "output_type": "stream",
     "text": [
      "E0128 16:08:05.645778000 8029278208 hpack_parser.cc:999]               Error parsing 'content-type' metadata: invalid value\n"
     ]
    },
    {
     "ename": "Unknown",
     "evalue": "None Stream removed",
     "output_type": "error",
     "traceback": [
      "\u001b[0;31m---------------------------------------------------------------------------\u001b[0m",
      "\u001b[0;31m_InactiveRpcError\u001b[0m                         Traceback (most recent call last)",
      "File \u001b[0;32m/opt/homebrew/anaconda3/envs/vertex/lib/python3.11/site-packages/google/api_core/grpc_helpers.py:79\u001b[0m, in \u001b[0;36m_wrap_unary_errors.<locals>.error_remapped_callable\u001b[0;34m(*args, **kwargs)\u001b[0m\n\u001b[1;32m     78\u001b[0m \u001b[38;5;28;01mtry\u001b[39;00m:\n\u001b[0;32m---> 79\u001b[0m     \u001b[38;5;28;01mreturn\u001b[39;00m callable_(\u001b[38;5;241m*\u001b[39margs, \u001b[38;5;241m*\u001b[39m\u001b[38;5;241m*\u001b[39mkwargs)\n\u001b[1;32m     80\u001b[0m \u001b[38;5;28;01mexcept\u001b[39;00m grpc\u001b[38;5;241m.\u001b[39mRpcError \u001b[38;5;28;01mas\u001b[39;00m exc:\n",
      "File \u001b[0;32m/opt/homebrew/anaconda3/envs/vertex/lib/python3.11/site-packages/grpc/_channel.py:1160\u001b[0m, in \u001b[0;36m_UnaryUnaryMultiCallable.__call__\u001b[0;34m(self, request, timeout, metadata, credentials, wait_for_ready, compression)\u001b[0m\n\u001b[1;32m   1154\u001b[0m (\n\u001b[1;32m   1155\u001b[0m     state,\n\u001b[1;32m   1156\u001b[0m     call,\n\u001b[1;32m   1157\u001b[0m ) \u001b[38;5;241m=\u001b[39m \u001b[38;5;28mself\u001b[39m\u001b[38;5;241m.\u001b[39m_blocking(\n\u001b[1;32m   1158\u001b[0m     request, timeout, metadata, credentials, wait_for_ready, compression\n\u001b[1;32m   1159\u001b[0m )\n\u001b[0;32m-> 1160\u001b[0m \u001b[38;5;28;01mreturn\u001b[39;00m _end_unary_response_blocking(state, call, \u001b[38;5;28;01mFalse\u001b[39;00m, \u001b[38;5;28;01mNone\u001b[39;00m)\n",
      "File \u001b[0;32m/opt/homebrew/anaconda3/envs/vertex/lib/python3.11/site-packages/grpc/_channel.py:1003\u001b[0m, in \u001b[0;36m_end_unary_response_blocking\u001b[0;34m(state, call, with_call, deadline)\u001b[0m\n\u001b[1;32m   1002\u001b[0m \u001b[38;5;28;01melse\u001b[39;00m:\n\u001b[0;32m-> 1003\u001b[0m     \u001b[38;5;28;01mraise\u001b[39;00m _InactiveRpcError(state)\n",
      "\u001b[0;31m_InactiveRpcError\u001b[0m: <_InactiveRpcError of RPC that terminated with:\n\tstatus = StatusCode.UNKNOWN\n\tdetails = \"Stream removed\"\n\tdebug_error_string = \"UNKNOWN:Error received from peer  {grpc_message:\"Stream removed\", grpc_status:2, created_time:\"2024-01-28T16:08:05.645867+01:00\"}\"\n>",
      "\nThe above exception was the direct cause of the following exception:\n",
      "\u001b[0;31mUnknown\u001b[0m                                   Traceback (most recent call last)",
      "Cell \u001b[0;32mIn[20], line 12\u001b[0m\n\u001b[1;32m      3\u001b[0m data_key \u001b[38;5;241m=\u001b[39m FeatureViewDataKey(\n\u001b[1;32m      4\u001b[0m     key \u001b[38;5;241m=\u001b[39m \u001b[38;5;124m\"\u001b[39m\u001b[38;5;124m12\u001b[39m\u001b[38;5;124m\"\u001b[39m,\n\u001b[1;32m      5\u001b[0m )\n\u001b[1;32m      6\u001b[0m view \u001b[38;5;241m=\u001b[39m (\n\u001b[1;32m      7\u001b[0m     \u001b[38;5;124mf\u001b[39m\u001b[38;5;124m\"\u001b[39m\u001b[38;5;124mprojects/\u001b[39m\u001b[38;5;132;01m{\u001b[39;00mGToken\u001b[38;5;241m.\u001b[39mproject_id\u001b[38;5;132;01m}\u001b[39;00m\u001b[38;5;124m\"\u001b[39m\n\u001b[1;32m      8\u001b[0m     \u001b[38;5;124mf\u001b[39m\u001b[38;5;124m\"\u001b[39m\u001b[38;5;124m/locations/\u001b[39m\u001b[38;5;132;01m{\u001b[39;00mGToken\u001b[38;5;241m.\u001b[39mlocation_id\u001b[38;5;132;01m}\u001b[39;00m\u001b[38;5;124m\"\u001b[39m\n\u001b[1;32m      9\u001b[0m     \u001b[38;5;124m\"\u001b[39m\u001b[38;5;124m/featureOnlineStores/house_pricing\u001b[39m\u001b[38;5;124m\"\u001b[39m\n\u001b[1;32m     10\u001b[0m     \u001b[38;5;124m\"\u001b[39m\u001b[38;5;124m/featureViews/price_by_area_model\u001b[39m\u001b[38;5;124m\"\u001b[39m\n\u001b[1;32m     11\u001b[0m )\n\u001b[0;32m---> 12\u001b[0m fs_client\u001b[38;5;241m.\u001b[39mfetch_feature_values(\n\u001b[1;32m     13\u001b[0m     request\u001b[38;5;241m=\u001b[39mFetchFeatureValuesRequest(\n\u001b[1;32m     14\u001b[0m         feature_view\u001b[38;5;241m=\u001b[39mview,\n\u001b[1;32m     15\u001b[0m         data_key\u001b[38;5;241m=\u001b[39mdata_key,\n\u001b[1;32m     16\u001b[0m     )\n\u001b[1;32m     17\u001b[0m )\n",
      "File \u001b[0;32m/opt/homebrew/anaconda3/envs/vertex/lib/python3.11/site-packages/google/cloud/aiplatform_v1beta1/services/feature_online_store_service/client.py:560\u001b[0m, in \u001b[0;36mFeatureOnlineStoreServiceClient.fetch_feature_values\u001b[0;34m(self, request, feature_view, data_key, retry, timeout, metadata)\u001b[0m\n\u001b[1;32m    553\u001b[0m metadata \u001b[38;5;241m=\u001b[39m \u001b[38;5;28mtuple\u001b[39m(metadata) \u001b[38;5;241m+\u001b[39m (\n\u001b[1;32m    554\u001b[0m     gapic_v1\u001b[38;5;241m.\u001b[39mrouting_header\u001b[38;5;241m.\u001b[39mto_grpc_metadata(\n\u001b[1;32m    555\u001b[0m         ((\u001b[38;5;124m\"\u001b[39m\u001b[38;5;124mfeature_view\u001b[39m\u001b[38;5;124m\"\u001b[39m, request\u001b[38;5;241m.\u001b[39mfeature_view),)\n\u001b[1;32m    556\u001b[0m     ),\n\u001b[1;32m    557\u001b[0m )\n\u001b[1;32m    559\u001b[0m \u001b[38;5;66;03m# Send the request.\u001b[39;00m\n\u001b[0;32m--> 560\u001b[0m response \u001b[38;5;241m=\u001b[39m rpc(\n\u001b[1;32m    561\u001b[0m     request,\n\u001b[1;32m    562\u001b[0m     retry\u001b[38;5;241m=\u001b[39mretry,\n\u001b[1;32m    563\u001b[0m     timeout\u001b[38;5;241m=\u001b[39mtimeout,\n\u001b[1;32m    564\u001b[0m     metadata\u001b[38;5;241m=\u001b[39mmetadata,\n\u001b[1;32m    565\u001b[0m )\n\u001b[1;32m    567\u001b[0m \u001b[38;5;66;03m# Done; return the response.\u001b[39;00m\n\u001b[1;32m    568\u001b[0m \u001b[38;5;28;01mreturn\u001b[39;00m response\n",
      "File \u001b[0;32m/opt/homebrew/anaconda3/envs/vertex/lib/python3.11/site-packages/google/api_core/gapic_v1/method.py:131\u001b[0m, in \u001b[0;36m_GapicCallable.__call__\u001b[0;34m(self, timeout, retry, compression, *args, **kwargs)\u001b[0m\n\u001b[1;32m    128\u001b[0m \u001b[38;5;28;01mif\u001b[39;00m \u001b[38;5;28mself\u001b[39m\u001b[38;5;241m.\u001b[39m_compression \u001b[38;5;129;01mis\u001b[39;00m \u001b[38;5;129;01mnot\u001b[39;00m \u001b[38;5;28;01mNone\u001b[39;00m:\n\u001b[1;32m    129\u001b[0m     kwargs[\u001b[38;5;124m\"\u001b[39m\u001b[38;5;124mcompression\u001b[39m\u001b[38;5;124m\"\u001b[39m] \u001b[38;5;241m=\u001b[39m compression\n\u001b[0;32m--> 131\u001b[0m \u001b[38;5;28;01mreturn\u001b[39;00m wrapped_func(\u001b[38;5;241m*\u001b[39margs, \u001b[38;5;241m*\u001b[39m\u001b[38;5;241m*\u001b[39mkwargs)\n",
      "File \u001b[0;32m/opt/homebrew/anaconda3/envs/vertex/lib/python3.11/site-packages/google/api_core/grpc_helpers.py:81\u001b[0m, in \u001b[0;36m_wrap_unary_errors.<locals>.error_remapped_callable\u001b[0;34m(*args, **kwargs)\u001b[0m\n\u001b[1;32m     79\u001b[0m     \u001b[38;5;28;01mreturn\u001b[39;00m callable_(\u001b[38;5;241m*\u001b[39margs, \u001b[38;5;241m*\u001b[39m\u001b[38;5;241m*\u001b[39mkwargs)\n\u001b[1;32m     80\u001b[0m \u001b[38;5;28;01mexcept\u001b[39;00m grpc\u001b[38;5;241m.\u001b[39mRpcError \u001b[38;5;28;01mas\u001b[39;00m exc:\n\u001b[0;32m---> 81\u001b[0m     \u001b[38;5;28;01mraise\u001b[39;00m exceptions\u001b[38;5;241m.\u001b[39mfrom_grpc_error(exc) \u001b[38;5;28;01mfrom\u001b[39;00m \u001b[38;5;21;01mexc\u001b[39;00m\n",
      "\u001b[0;31mUnknown\u001b[0m: None Stream removed"
     ]
    }
   ],
   "source": [
    "fs_client = FeatureOnlineStoreServiceClient(\n",
    "    transport = FeatureOnlineStoreServiceGrpcTransport(\n",
    "        channel = grpc.insecure_channel(\"ENDPOINT_IP:10002\")\n",
    "    )\n",
    ")\n",
    "\n",
    "data_key = FeatureViewDataKey(\n",
    "    key = \"12\",\n",
    ")\n",
    "view = (\n",
    "    f\"projects/{GToken.project_id}\"\n",
    "    f\"/locations/{GToken.location_id}\"\n",
    "    \"/featureOnlineStores/house_pricing\"\n",
    "    \"/featureViews/price_by_area_model\"\n",
    ")\n",
    "fs_client.fetch_feature_values(\n",
    "    request=FetchFeatureValuesRequest(\n",
    "        feature_view=view,\n",
    "        data_key=data_key,\n",
    "    )\n",
    ")"
   ]
  },
  {
   "cell_type": "code",
   "execution_count": null,
   "metadata": {},
   "outputs": [],
   "source": [
    "{\n",
    "    'feature_registry_source': {\n",
    "        'feature_groups': [\n",
    "            {'feature_group_id': 'house_area', \n",
    "             'feature_ids': ['flr_one_sq_feet', 'flr_two_sq_feet', 'house_sq_feet']\n",
    "            }\n",
    "            ]\n",
    "        }\n",
    "    }\n"
   ]
  },
  {
   "cell_type": "code",
   "execution_count": 26,
   "metadata": {},
   "outputs": [],
   "source": [
    "query_train_dataset = \"\"\"\n",
    "with sale_prices as (\n",
    "    select entity_id house_id,\n",
    "           feature_timestamp sale_ts,\n",
    "           sale_price,\n",
    "           row_number() over (partition by entity_id order by feature_timestamp desc) _rk\n",
    "    from house_pricing.ai_house_prices\n",
    "),\n",
    "spine as (\n",
    "    select *\n",
    "    from sale_prices\n",
    "    where _rk = 1\n",
    "),\n",
    "area as (\n",
    "    select area.*,\n",
    "           row_number() over (partition by area.entity_id order by area.feature_timestamp desc) _rk\n",
    "    from house_pricing.ai_house_area area\n",
    "         inner join spine on (\n",
    "            area.entity_id = spine.house_id\n",
    "            and area.feature_timestamp <= spine.sale_ts\n",
    "         )\n",
    ")\n",
    "select spine.house_id,\n",
    "       spine.sale_price,\n",
    "       area.flr_one_sq_feet,\n",
    "       area.flr_two_sq_feet,\n",
    "       area.house_sq_feet\n",
    "from spine\n",
    "     inner join area on (area.entity_id = spine.house_id)\n",
    "where area._rk = 1\n",
    "\"\"\"\n",
    "\n",
    "client = bigquery.Client()\n",
    "tarin_df = client.query(query_train_dataset).result().to_dataframe()"
   ]
  },
  {
   "cell_type": "code",
   "execution_count": 27,
   "metadata": {},
   "outputs": [
    {
     "data": {
      "text/html": [
       "<div>\n",
       "<style scoped>\n",
       "    .dataframe tbody tr th:only-of-type {\n",
       "        vertical-align: middle;\n",
       "    }\n",
       "\n",
       "    .dataframe tbody tr th {\n",
       "        vertical-align: top;\n",
       "    }\n",
       "\n",
       "    .dataframe thead th {\n",
       "        text-align: right;\n",
       "    }\n",
       "</style>\n",
       "<table border=\"1\" class=\"dataframe\">\n",
       "  <thead>\n",
       "    <tr style=\"text-align: right;\">\n",
       "      <th></th>\n",
       "      <th>house_id</th>\n",
       "      <th>sale_price</th>\n",
       "      <th>flr_one_sq_feet</th>\n",
       "      <th>flr_two_sq_feet</th>\n",
       "      <th>house_sq_feet</th>\n",
       "    </tr>\n",
       "  </thead>\n",
       "  <tbody>\n",
       "    <tr>\n",
       "      <th>0</th>\n",
       "      <td>60</td>\n",
       "      <td>124900</td>\n",
       "      <td>780</td>\n",
       "      <td>0</td>\n",
       "      <td>780</td>\n",
       "    </tr>\n",
       "    <tr>\n",
       "      <th>1</th>\n",
       "      <td>28</td>\n",
       "      <td>306000</td>\n",
       "      <td>1704</td>\n",
       "      <td>0</td>\n",
       "      <td>1704</td>\n",
       "    </tr>\n",
       "    <tr>\n",
       "      <th>2</th>\n",
       "      <td>21</td>\n",
       "      <td>325300</td>\n",
       "      <td>1158</td>\n",
       "      <td>1218</td>\n",
       "      <td>2376</td>\n",
       "    </tr>\n",
       "    <tr>\n",
       "      <th>3</th>\n",
       "      <td>46</td>\n",
       "      <td>319900</td>\n",
       "      <td>1752</td>\n",
       "      <td>0</td>\n",
       "      <td>1752</td>\n",
       "    </tr>\n",
       "    <tr>\n",
       "      <th>4</th>\n",
       "      <td>11</td>\n",
       "      <td>129500</td>\n",
       "      <td>1040</td>\n",
       "      <td>0</td>\n",
       "      <td>1040</td>\n",
       "    </tr>\n",
       "    <tr>\n",
       "      <th>...</th>\n",
       "      <td>...</td>\n",
       "      <td>...</td>\n",
       "      <td>...</td>\n",
       "      <td>...</td>\n",
       "      <td>...</td>\n",
       "    </tr>\n",
       "    <tr>\n",
       "      <th>97</th>\n",
       "      <td>17</td>\n",
       "      <td>149000</td>\n",
       "      <td>1004</td>\n",
       "      <td>0</td>\n",
       "      <td>1004</td>\n",
       "    </tr>\n",
       "    <tr>\n",
       "      <th>98</th>\n",
       "      <td>34</td>\n",
       "      <td>165500</td>\n",
       "      <td>1700</td>\n",
       "      <td>0</td>\n",
       "      <td>1700</td>\n",
       "    </tr>\n",
       "    <tr>\n",
       "      <th>99</th>\n",
       "      <td>37</td>\n",
       "      <td>145000</td>\n",
       "      <td>1097</td>\n",
       "      <td>0</td>\n",
       "      <td>1097</td>\n",
       "    </tr>\n",
       "    <tr>\n",
       "      <th>100</th>\n",
       "      <td>88</td>\n",
       "      <td>164500</td>\n",
       "      <td>612</td>\n",
       "      <td>612</td>\n",
       "      <td>1224</td>\n",
       "    </tr>\n",
       "    <tr>\n",
       "      <th>101</th>\n",
       "      <td>8</td>\n",
       "      <td>200000</td>\n",
       "      <td>1107</td>\n",
       "      <td>983</td>\n",
       "      <td>2090</td>\n",
       "    </tr>\n",
       "  </tbody>\n",
       "</table>\n",
       "<p>102 rows × 5 columns</p>\n",
       "</div>"
      ],
      "text/plain": [
       "    house_id  sale_price  flr_one_sq_feet  flr_two_sq_feet  house_sq_feet\n",
       "0         60      124900              780                0            780\n",
       "1         28      306000             1704                0           1704\n",
       "2         21      325300             1158             1218           2376\n",
       "3         46      319900             1752                0           1752\n",
       "4         11      129500             1040                0           1040\n",
       "..       ...         ...              ...              ...            ...\n",
       "97        17      149000             1004                0           1004\n",
       "98        34      165500             1700                0           1700\n",
       "99        37      145000             1097                0           1097\n",
       "100       88      164500              612              612           1224\n",
       "101        8      200000             1107              983           2090\n",
       "\n",
       "[102 rows x 5 columns]"
      ]
     },
     "execution_count": 27,
     "metadata": {},
     "output_type": "execute_result"
    }
   ],
   "source": [
    "tarin_df"
   ]
  },
  {
   "cell_type": "code",
   "execution_count": 71,
   "metadata": {},
   "outputs": [
    {
     "data": {
      "text/plain": [
       "{'name': 'projects/670967409083/locations/europe-west1/operations/5509554360494850048',\n",
       " 'metadata': {'@type': 'type.googleapis.com/google.cloud.aiplatform.v1.DeleteOperationMetadata',\n",
       "  'genericMetadata': {'createTime': '2024-01-28T16:18:29.264668Z',\n",
       "   'updateTime': '2024-01-28T16:18:29.264668Z'}},\n",
       " 'done': True,\n",
       " 'response': {'@type': 'type.googleapis.com/google.protobuf.Empty'}}"
      ]
     },
     "execution_count": 71,
     "metadata": {},
     "output_type": "execute_result"
    }
   ],
   "source": [
    "feature_manager = FeatureManager()\n",
    "\n",
    "feature_manager.remove_feature(\"house_area\", \"flr_one_sq_feet\")\n",
    "feature_manager.remove_feature(\"house_area\", \"flr_two_sq_feet\")\n",
    "feature_manager.remove_feature(\"house_area\", \"house_sq_feet\")\n",
    "\n",
    "feature_manager.remove_feature(\"house_price\", \"sale_price\")"
   ]
  },
  {
   "cell_type": "code",
   "execution_count": null,
   "metadata": {},
   "outputs": [],
   "source": [
    "client = bigquery.Client()\n",
    "query = \"\"\"\n",
    "select *\n",
    "from house_pricing.ai_house_features\n",
    "limit 10\n",
    "\"\"\"\n",
    "query_job = client.query(query)\n",
    "rows = query_job.result()\n",
    "list(rows)"
   ]
  },
  {
   "cell_type": "code",
   "execution_count": 5,
   "metadata": {},
   "outputs": [
    {
     "name": "stdout",
     "output_type": "stream",
     "text": [
      "{'big_query': {'big_query_source': {'input_uri': 'bq://ml-lab-324709.house_pricing.house_features'}}}\n"
     ]
    },
    {
     "data": {
      "text/plain": [
       "{'name': 'projects/670967409083/locations/europe-west1/featureGroups/realestate/operations/4277520795246264320',\n",
       " 'metadata': {'@type': 'type.googleapis.com/google.cloud.aiplatform.v1.CreateFeatureGroupOperationMetadata',\n",
       "  'genericMetadata': {'createTime': '2024-01-14T15:00:20.429607Z',\n",
       "   'updateTime': '2024-01-14T15:00:20.429607Z'}},\n",
       " 'done': True,\n",
       " 'response': {'@type': 'type.googleapis.com/google.cloud.aiplatform.v1.FeatureGroup',\n",
       "  'name': 'projects/670967409083/locations/europe-west1/featureGroups/realestate'}}"
      ]
     },
     "execution_count": 5,
     "metadata": {},
     "output_type": "execute_result"
    }
   ],
   "source": [
    "feature_manager = FeatureManager()\n",
    "respose = feature_manager.create_feature_group(\n",
    "    \"realestate\",\n",
    "    \"bq://ml-lab-324709.house_pricing.house_features\")\n",
    "respose"
   ]
  },
  {
   "cell_type": "code",
   "execution_count": null,
   "metadata": {},
   "outputs": [],
   "source": [
    "{\n",
    "  \"big_query\": {\n",
    "    \"big_query_source\": {\n",
    "      \"input_uri\": \"BIGQUERY_SOURCE_URI\"\n",
    "    }\n",
    "  }\n",
    "}"
   ]
  },
  {
   "cell_type": "code",
   "execution_count": null,
   "metadata": {},
   "outputs": [],
   "source": [
    "curl -X POST \\\n",
    "    -H \"Authorization: Bearer $(gcloud auth print-access-token)\" \\\n",
    "    -H \"Content-Type: application/json; charset=utf-8\" \\\n",
    "    -d @request.json \\\n",
    "    \"https://LOCATION_ID-aiplatform.googleapis.com/v1/projects/PROJECT_ID/locations/LOCATION_ID/featureGroups?feature_group_id=FEATUREGROUP_NAME\""
   ]
  },
  {
   "cell_type": "code",
   "execution_count": 21,
   "metadata": {},
   "outputs": [],
   "source": [
    "topic = publisher.get_topic(request={\"topic\": topic_name})"
   ]
  },
  {
   "cell_type": "code",
   "execution_count": 67,
   "metadata": {},
   "outputs": [],
   "source": [
    "publisher = pubsub_v1.PublisherClient()\n",
    "topic_name = \"projects/ml-lab-324709/topics/house_prices\"\n",
    "df = pd.read_csv(\"home-data-for-ml-course/train.csv\")\n",
    "for idx, row in df.iterrows():\n",
    "    feature_row = house_features_pb2.HouseFeatures()\n",
    "    feature_row.Id = row.Id\n",
    "    feature_row.Flr1SF = row[\"1stFlrSF\"]\n",
    "    feature_row.Flr2SF = row[\"2ndFlrSF\"]\n",
    "    feature_row.SalePrice = row.SalePrice\n",
    "\n",
    "    future = publisher.publish(topic_name, \n",
    "                               feature_row.SerializeToString())\n",
    "\n",
    "    if idx > 10:\n",
    "        break\n"
   ]
  }
 ],
 "metadata": {
  "kernelspec": {
   "display_name": "vertex",
   "language": "python",
   "name": "python3"
  },
  "language_info": {
   "codemirror_mode": {
    "name": "ipython",
    "version": 3
   },
   "file_extension": ".py",
   "mimetype": "text/x-python",
   "name": "python",
   "nbconvert_exporter": "python",
   "pygments_lexer": "ipython3",
   "version": "3.11.7"
  }
 },
 "nbformat": 4,
 "nbformat_minor": 2
}
